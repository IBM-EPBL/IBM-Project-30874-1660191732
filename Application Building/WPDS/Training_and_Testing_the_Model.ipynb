{
 "cells": [
  {
   "cell_type": "code",
   "execution_count": 1,
   "id": "fe64499a",
   "metadata": {},
   "outputs": [],
   "source": [
    "# Description of this notebook\n",
    "\n",
    "# in this notebook we train and test the performance of well known classifier algorithms(as this is a classifier problem) using some evaluation metrics\n",
    "# and save the best model in a pickle file"
   ]
  },
  {
   "cell_type": "code",
   "execution_count": 2,
   "id": "e0235797",
   "metadata": {},
   "outputs": [],
   "source": [
    "# importing necessary modules for this notebook\n",
    "\n",
    "import pandas as pd\n",
    "from sklearn.preprocessing import scale #for scaling\n",
    "from sklearn.model_selection import train_test_split # for train and test data split\n",
    "from sklearn.linear_model import LogisticRegression # for Logistic Regression Classification model\n",
    "from sklearn.metrics import accuracy_score,classification_report,confusion_matrix,roc_auc_score,roc_curve # for evaluation of classification models\n",
    "from sklearn.tree import DecisionTreeClassifier # for Decision Tree Classifier model\n",
    "from sklearn.ensemble import RandomForestClassifier # for Random Forest Classifier model\n",
    "from sklearn.tree import DecisionTreeClassifier # for Decision Tree Classifier model\n",
    "from sklearn.neighbors import KNeighborsClassifier # for K Neighbor Classifier model\n",
    "from sklearn.naive_bayes import GaussianNB # for Naive Bayes Classification model\n",
    "from sklearn.svm import SVC # for svm Classification model\n",
    "from sklearn.model_selection import GridSearchCV # for hyper parameter tuning using grid search method\n",
    "from imblearn.over_sampling import SMOTE # for data balancing using smote method"
   ]
  },
  {
   "cell_type": "markdown",
   "id": "9dd4107b",
   "metadata": {},
   "source": [
    "# 2. Loading The Preprocessed Data"
   ]
  },
  {
   "cell_type": "code",
   "execution_count": 3,
   "id": "bfab39d2",
   "metadata": {},
   "outputs": [
    {
     "data": {
      "text/plain": [
       "(10000, 9)"
      ]
     },
     "execution_count": 3,
     "metadata": {},
     "output_type": "execute_result"
    }
   ],
   "source": [
    "# Loading the preprocessed dataset \"Preprocessed_Dataset\"\n",
    "\n",
    "data=pd.read_csv(\"Preprocessed_Dataset.csv\")\n",
    "\n",
    "# Dataset Features\n",
    "\n",
    "data.shape"
   ]
  },
  {
   "cell_type": "code",
   "execution_count": 4,
   "id": "720ae32e",
   "metadata": {},
   "outputs": [
    {
     "data": {
      "text/html": [
       "<div>\n",
       "<style scoped>\n",
       "    .dataframe tbody tr th:only-of-type {\n",
       "        vertical-align: middle;\n",
       "    }\n",
       "\n",
       "    .dataframe tbody tr th {\n",
       "        vertical-align: top;\n",
       "    }\n",
       "\n",
       "    .dataframe thead th {\n",
       "        text-align: right;\n",
       "    }\n",
       "</style>\n",
       "<table border=\"1\" class=\"dataframe\">\n",
       "  <thead>\n",
       "    <tr style=\"text-align: right;\">\n",
       "      <th></th>\n",
       "      <th>Have_IP</th>\n",
       "      <th>Have_At</th>\n",
       "      <th>URL_Length</th>\n",
       "      <th>URL_Depth</th>\n",
       "      <th>Redirection</th>\n",
       "      <th>https_http</th>\n",
       "      <th>TinyURL</th>\n",
       "      <th>Prefix_Suffix</th>\n",
       "      <th>Ouput</th>\n",
       "    </tr>\n",
       "  </thead>\n",
       "  <tbody>\n",
       "    <tr>\n",
       "      <th>0</th>\n",
       "      <td>0</td>\n",
       "      <td>0</td>\n",
       "      <td>1</td>\n",
       "      <td>1</td>\n",
       "      <td>0</td>\n",
       "      <td>0</td>\n",
       "      <td>0</td>\n",
       "      <td>0</td>\n",
       "      <td>0</td>\n",
       "    </tr>\n",
       "    <tr>\n",
       "      <th>1</th>\n",
       "      <td>0</td>\n",
       "      <td>0</td>\n",
       "      <td>1</td>\n",
       "      <td>1</td>\n",
       "      <td>1</td>\n",
       "      <td>0</td>\n",
       "      <td>0</td>\n",
       "      <td>0</td>\n",
       "      <td>0</td>\n",
       "    </tr>\n",
       "    <tr>\n",
       "      <th>2</th>\n",
       "      <td>0</td>\n",
       "      <td>0</td>\n",
       "      <td>1</td>\n",
       "      <td>1</td>\n",
       "      <td>0</td>\n",
       "      <td>0</td>\n",
       "      <td>0</td>\n",
       "      <td>0</td>\n",
       "      <td>0</td>\n",
       "    </tr>\n",
       "    <tr>\n",
       "      <th>3</th>\n",
       "      <td>0</td>\n",
       "      <td>0</td>\n",
       "      <td>1</td>\n",
       "      <td>3</td>\n",
       "      <td>0</td>\n",
       "      <td>0</td>\n",
       "      <td>0</td>\n",
       "      <td>0</td>\n",
       "      <td>0</td>\n",
       "    </tr>\n",
       "    <tr>\n",
       "      <th>4</th>\n",
       "      <td>0</td>\n",
       "      <td>0</td>\n",
       "      <td>1</td>\n",
       "      <td>3</td>\n",
       "      <td>0</td>\n",
       "      <td>0</td>\n",
       "      <td>0</td>\n",
       "      <td>0</td>\n",
       "      <td>0</td>\n",
       "    </tr>\n",
       "  </tbody>\n",
       "</table>\n",
       "</div>"
      ],
      "text/plain": [
       "   Have_IP  Have_At  URL_Length  URL_Depth  Redirection  https_http  TinyURL  \\\n",
       "0        0        0           1          1            0           0        0   \n",
       "1        0        0           1          1            1           0        0   \n",
       "2        0        0           1          1            0           0        0   \n",
       "3        0        0           1          3            0           0        0   \n",
       "4        0        0           1          3            0           0        0   \n",
       "\n",
       "   Prefix_Suffix  Ouput  \n",
       "0              0      0  \n",
       "1              0      0  \n",
       "2              0      0  \n",
       "3              0      0  \n",
       "4              0      0  "
      ]
     },
     "execution_count": 4,
     "metadata": {},
     "output_type": "execute_result"
    }
   ],
   "source": [
    "data.head()"
   ]
  },
  {
   "cell_type": "markdown",
   "id": "7567e51b",
   "metadata": {},
   "source": [
    "# 3. X and y split"
   ]
  },
  {
   "cell_type": "code",
   "execution_count": 5,
   "id": "7ea2537d",
   "metadata": {},
   "outputs": [
    {
     "data": {
      "text/plain": [
       "0    0\n",
       "1    0\n",
       "2    0\n",
       "3    0\n",
       "4    0\n",
       "Name: Ouput, dtype: int64"
      ]
     },
     "execution_count": 5,
     "metadata": {},
     "output_type": "execute_result"
    }
   ],
   "source": [
    "# splitting the data into independent and target variables X and y repectively\n",
    "\n",
    "# storing Target column \"Ouput\" in y\n",
    "y=data['Ouput']\n",
    "y.head()"
   ]
  },
  {
   "cell_type": "code",
   "execution_count": 6,
   "id": "2085933d",
   "metadata": {},
   "outputs": [
    {
     "data": {
      "text/html": [
       "<div>\n",
       "<style scoped>\n",
       "    .dataframe tbody tr th:only-of-type {\n",
       "        vertical-align: middle;\n",
       "    }\n",
       "\n",
       "    .dataframe tbody tr th {\n",
       "        vertical-align: top;\n",
       "    }\n",
       "\n",
       "    .dataframe thead th {\n",
       "        text-align: right;\n",
       "    }\n",
       "</style>\n",
       "<table border=\"1\" class=\"dataframe\">\n",
       "  <thead>\n",
       "    <tr style=\"text-align: right;\">\n",
       "      <th></th>\n",
       "      <th>Have_IP</th>\n",
       "      <th>Have_At</th>\n",
       "      <th>URL_Length</th>\n",
       "      <th>URL_Depth</th>\n",
       "      <th>Redirection</th>\n",
       "      <th>https_http</th>\n",
       "      <th>TinyURL</th>\n",
       "      <th>Prefix_Suffix</th>\n",
       "    </tr>\n",
       "  </thead>\n",
       "  <tbody>\n",
       "    <tr>\n",
       "      <th>0</th>\n",
       "      <td>0</td>\n",
       "      <td>0</td>\n",
       "      <td>1</td>\n",
       "      <td>1</td>\n",
       "      <td>0</td>\n",
       "      <td>0</td>\n",
       "      <td>0</td>\n",
       "      <td>0</td>\n",
       "    </tr>\n",
       "    <tr>\n",
       "      <th>1</th>\n",
       "      <td>0</td>\n",
       "      <td>0</td>\n",
       "      <td>1</td>\n",
       "      <td>1</td>\n",
       "      <td>1</td>\n",
       "      <td>0</td>\n",
       "      <td>0</td>\n",
       "      <td>0</td>\n",
       "    </tr>\n",
       "    <tr>\n",
       "      <th>2</th>\n",
       "      <td>0</td>\n",
       "      <td>0</td>\n",
       "      <td>1</td>\n",
       "      <td>1</td>\n",
       "      <td>0</td>\n",
       "      <td>0</td>\n",
       "      <td>0</td>\n",
       "      <td>0</td>\n",
       "    </tr>\n",
       "    <tr>\n",
       "      <th>3</th>\n",
       "      <td>0</td>\n",
       "      <td>0</td>\n",
       "      <td>1</td>\n",
       "      <td>3</td>\n",
       "      <td>0</td>\n",
       "      <td>0</td>\n",
       "      <td>0</td>\n",
       "      <td>0</td>\n",
       "    </tr>\n",
       "    <tr>\n",
       "      <th>4</th>\n",
       "      <td>0</td>\n",
       "      <td>0</td>\n",
       "      <td>1</td>\n",
       "      <td>3</td>\n",
       "      <td>0</td>\n",
       "      <td>0</td>\n",
       "      <td>0</td>\n",
       "      <td>0</td>\n",
       "    </tr>\n",
       "  </tbody>\n",
       "</table>\n",
       "</div>"
      ],
      "text/plain": [
       "   Have_IP  Have_At  URL_Length  URL_Depth  Redirection  https_http  TinyURL  \\\n",
       "0        0        0           1          1            0           0        0   \n",
       "1        0        0           1          1            1           0        0   \n",
       "2        0        0           1          1            0           0        0   \n",
       "3        0        0           1          3            0           0        0   \n",
       "4        0        0           1          3            0           0        0   \n",
       "\n",
       "   Prefix_Suffix  \n",
       "0              0  \n",
       "1              0  \n",
       "2              0  \n",
       "3              0  \n",
       "4              0  "
      ]
     },
     "execution_count": 6,
     "metadata": {},
     "output_type": "execute_result"
    }
   ],
   "source": [
    "# storing independent columns in X\n",
    "\n",
    "X=data.drop(columns=['Ouput'],axis=1)\n",
    "X.head()"
   ]
  },
  {
   "cell_type": "markdown",
   "id": "e08ee578",
   "metadata": {},
   "source": [
    "# 4. Scaling the X values"
   ]
  },
  {
   "cell_type": "code",
   "execution_count": 7,
   "id": "87e13949",
   "metadata": {},
   "outputs": [],
   "source": [
    "# As the values are close near in each column so there is no need for scaling"
   ]
  },
  {
   "cell_type": "markdown",
   "id": "67f41dd2",
   "metadata": {},
   "source": [
    "# 5. Test and Train Split"
   ]
  },
  {
   "cell_type": "code",
   "execution_count": 8,
   "id": "804ba87e",
   "metadata": {},
   "outputs": [],
   "source": [
    "# splitting the data into train and test dataset in 7:3 ratio repectively\n",
    "\n",
    "X_train,X_test,y_train,y_test=train_test_split(X,y,test_size=0.3,random_state=0)"
   ]
  },
  {
   "cell_type": "code",
   "execution_count": 9,
   "id": "9be59dc2",
   "metadata": {},
   "outputs": [
    {
     "data": {
      "text/html": [
       "<div>\n",
       "<style scoped>\n",
       "    .dataframe tbody tr th:only-of-type {\n",
       "        vertical-align: middle;\n",
       "    }\n",
       "\n",
       "    .dataframe tbody tr th {\n",
       "        vertical-align: top;\n",
       "    }\n",
       "\n",
       "    .dataframe thead th {\n",
       "        text-align: right;\n",
       "    }\n",
       "</style>\n",
       "<table border=\"1\" class=\"dataframe\">\n",
       "  <thead>\n",
       "    <tr style=\"text-align: right;\">\n",
       "      <th></th>\n",
       "      <th>Have_IP</th>\n",
       "      <th>Have_At</th>\n",
       "      <th>URL_Length</th>\n",
       "      <th>URL_Depth</th>\n",
       "      <th>Redirection</th>\n",
       "      <th>https_http</th>\n",
       "      <th>TinyURL</th>\n",
       "      <th>Prefix_Suffix</th>\n",
       "    </tr>\n",
       "  </thead>\n",
       "  <tbody>\n",
       "    <tr>\n",
       "      <th>7681</th>\n",
       "      <td>0</td>\n",
       "      <td>0</td>\n",
       "      <td>1</td>\n",
       "      <td>4</td>\n",
       "      <td>0</td>\n",
       "      <td>0</td>\n",
       "      <td>0</td>\n",
       "      <td>0</td>\n",
       "    </tr>\n",
       "    <tr>\n",
       "      <th>9031</th>\n",
       "      <td>0</td>\n",
       "      <td>0</td>\n",
       "      <td>0</td>\n",
       "      <td>0</td>\n",
       "      <td>0</td>\n",
       "      <td>0</td>\n",
       "      <td>0</td>\n",
       "      <td>1</td>\n",
       "    </tr>\n",
       "    <tr>\n",
       "      <th>3691</th>\n",
       "      <td>0</td>\n",
       "      <td>0</td>\n",
       "      <td>1</td>\n",
       "      <td>1</td>\n",
       "      <td>0</td>\n",
       "      <td>0</td>\n",
       "      <td>0</td>\n",
       "      <td>0</td>\n",
       "    </tr>\n",
       "    <tr>\n",
       "      <th>202</th>\n",
       "      <td>0</td>\n",
       "      <td>0</td>\n",
       "      <td>1</td>\n",
       "      <td>1</td>\n",
       "      <td>0</td>\n",
       "      <td>0</td>\n",
       "      <td>0</td>\n",
       "      <td>0</td>\n",
       "    </tr>\n",
       "    <tr>\n",
       "      <th>5625</th>\n",
       "      <td>0</td>\n",
       "      <td>1</td>\n",
       "      <td>1</td>\n",
       "      <td>6</td>\n",
       "      <td>0</td>\n",
       "      <td>0</td>\n",
       "      <td>0</td>\n",
       "      <td>0</td>\n",
       "    </tr>\n",
       "  </tbody>\n",
       "</table>\n",
       "</div>"
      ],
      "text/plain": [
       "      Have_IP  Have_At  URL_Length  URL_Depth  Redirection  https_http  \\\n",
       "7681        0        0           1          4            0           0   \n",
       "9031        0        0           0          0            0           0   \n",
       "3691        0        0           1          1            0           0   \n",
       "202         0        0           1          1            0           0   \n",
       "5625        0        1           1          6            0           0   \n",
       "\n",
       "      TinyURL  Prefix_Suffix  \n",
       "7681        0              0  \n",
       "9031        0              1  \n",
       "3691        0              0  \n",
       "202         0              0  \n",
       "5625        0              0  "
      ]
     },
     "execution_count": 9,
     "metadata": {},
     "output_type": "execute_result"
    }
   ],
   "source": [
    "X_train.head()"
   ]
  },
  {
   "cell_type": "code",
   "execution_count": 10,
   "id": "769be1ef",
   "metadata": {},
   "outputs": [
    {
     "data": {
      "text/html": [
       "<div>\n",
       "<style scoped>\n",
       "    .dataframe tbody tr th:only-of-type {\n",
       "        vertical-align: middle;\n",
       "    }\n",
       "\n",
       "    .dataframe tbody tr th {\n",
       "        vertical-align: top;\n",
       "    }\n",
       "\n",
       "    .dataframe thead th {\n",
       "        text-align: right;\n",
       "    }\n",
       "</style>\n",
       "<table border=\"1\" class=\"dataframe\">\n",
       "  <thead>\n",
       "    <tr style=\"text-align: right;\">\n",
       "      <th></th>\n",
       "      <th>Have_IP</th>\n",
       "      <th>Have_At</th>\n",
       "      <th>URL_Length</th>\n",
       "      <th>URL_Depth</th>\n",
       "      <th>Redirection</th>\n",
       "      <th>https_http</th>\n",
       "      <th>TinyURL</th>\n",
       "      <th>Prefix_Suffix</th>\n",
       "    </tr>\n",
       "  </thead>\n",
       "  <tbody>\n",
       "    <tr>\n",
       "      <th>9394</th>\n",
       "      <td>0</td>\n",
       "      <td>0</td>\n",
       "      <td>1</td>\n",
       "      <td>5</td>\n",
       "      <td>0</td>\n",
       "      <td>0</td>\n",
       "      <td>0</td>\n",
       "      <td>0</td>\n",
       "    </tr>\n",
       "    <tr>\n",
       "      <th>898</th>\n",
       "      <td>0</td>\n",
       "      <td>0</td>\n",
       "      <td>1</td>\n",
       "      <td>6</td>\n",
       "      <td>0</td>\n",
       "      <td>0</td>\n",
       "      <td>0</td>\n",
       "      <td>0</td>\n",
       "    </tr>\n",
       "    <tr>\n",
       "      <th>2398</th>\n",
       "      <td>0</td>\n",
       "      <td>0</td>\n",
       "      <td>1</td>\n",
       "      <td>3</td>\n",
       "      <td>0</td>\n",
       "      <td>0</td>\n",
       "      <td>0</td>\n",
       "      <td>0</td>\n",
       "    </tr>\n",
       "    <tr>\n",
       "      <th>5906</th>\n",
       "      <td>0</td>\n",
       "      <td>0</td>\n",
       "      <td>1</td>\n",
       "      <td>3</td>\n",
       "      <td>0</td>\n",
       "      <td>0</td>\n",
       "      <td>0</td>\n",
       "      <td>0</td>\n",
       "    </tr>\n",
       "    <tr>\n",
       "      <th>2343</th>\n",
       "      <td>0</td>\n",
       "      <td>0</td>\n",
       "      <td>1</td>\n",
       "      <td>2</td>\n",
       "      <td>0</td>\n",
       "      <td>0</td>\n",
       "      <td>0</td>\n",
       "      <td>0</td>\n",
       "    </tr>\n",
       "  </tbody>\n",
       "</table>\n",
       "</div>"
      ],
      "text/plain": [
       "      Have_IP  Have_At  URL_Length  URL_Depth  Redirection  https_http  \\\n",
       "9394        0        0           1          5            0           0   \n",
       "898         0        0           1          6            0           0   \n",
       "2398        0        0           1          3            0           0   \n",
       "5906        0        0           1          3            0           0   \n",
       "2343        0        0           1          2            0           0   \n",
       "\n",
       "      TinyURL  Prefix_Suffix  \n",
       "9394        0              0  \n",
       "898         0              0  \n",
       "2398        0              0  \n",
       "5906        0              0  \n",
       "2343        0              0  "
      ]
     },
     "execution_count": 10,
     "metadata": {},
     "output_type": "execute_result"
    }
   ],
   "source": [
    "X_test.head()"
   ]
  },
  {
   "cell_type": "code",
   "execution_count": 11,
   "id": "55512ea5",
   "metadata": {},
   "outputs": [
    {
     "data": {
      "text/plain": [
       "7681    1\n",
       "9031    1\n",
       "3691    0\n",
       "202     0\n",
       "5625    1\n",
       "Name: Ouput, dtype: int64"
      ]
     },
     "execution_count": 11,
     "metadata": {},
     "output_type": "execute_result"
    }
   ],
   "source": [
    "y_train.head()"
   ]
  },
  {
   "cell_type": "code",
   "execution_count": 12,
   "id": "f0290c5e",
   "metadata": {},
   "outputs": [
    {
     "data": {
      "text/plain": [
       "9394    1\n",
       "898     0\n",
       "2398    0\n",
       "5906    1\n",
       "2343    0\n",
       "Name: Ouput, dtype: int64"
      ]
     },
     "execution_count": 12,
     "metadata": {},
     "output_type": "execute_result"
    }
   ],
   "source": [
    "y_test.head()"
   ]
  },
  {
   "cell_type": "markdown",
   "id": "0db78012",
   "metadata": {},
   "source": [
    "# 6. Balancing the data"
   ]
  },
  {
   "cell_type": "code",
   "execution_count": 14,
   "id": "536b9235",
   "metadata": {},
   "outputs": [
    {
     "data": {
      "text/plain": [
       "1    3511\n",
       "0    3489\n",
       "Name: Ouput, dtype: int64"
      ]
     },
     "execution_count": 14,
     "metadata": {},
     "output_type": "execute_result"
    }
   ],
   "source": [
    "y_train.value_counts()\n",
    "\n",
    "# Balance the majority and minority class of X"
   ]
  },
  {
   "cell_type": "code",
   "execution_count": 15,
   "id": "02ee3b7f",
   "metadata": {},
   "outputs": [],
   "source": [
    "# Balncing the train data using smote method\n",
    "\n",
    "smote=SMOTE()\n",
    "\n",
    "X_train_smote,y_train_smote=smote.fit_resample(X_train,y_train)"
   ]
  },
  {
   "cell_type": "code",
   "execution_count": 17,
   "id": "6972667b",
   "metadata": {},
   "outputs": [
    {
     "data": {
      "text/plain": [
       "1    3511\n",
       "0    3511\n",
       "Name: Ouput, dtype: int64"
      ]
     },
     "execution_count": 17,
     "metadata": {},
     "output_type": "execute_result"
    }
   ],
   "source": [
    "y_train_smote.value_counts()"
   ]
  },
  {
   "cell_type": "markdown",
   "id": "9334a674",
   "metadata": {},
   "source": [
    "# 7. Training and Testing the model"
   ]
  },
  {
   "cell_type": "code",
   "execution_count": 18,
   "id": "dd15c105",
   "metadata": {},
   "outputs": [],
   "source": [
    "# The algorithms used in this model are\n",
    "\n",
    "#  1.logistic regression\n",
    "#  2.decision tree model\n",
    "#  3.Random forest model\n",
    "#  4.KNN\n",
    "#  5.Naive Bayes\n",
    "#  6.svm\n"
   ]
  },
  {
   "cell_type": "markdown",
   "id": "84540c01",
   "metadata": {},
   "source": [
    "## 7.1. Logistic Regression Algorithm "
   ]
  },
  {
   "cell_type": "code",
   "execution_count": 20,
   "id": "7b37d171",
   "metadata": {},
   "outputs": [],
   "source": [
    "#initializing the model\n",
    "\n",
    "lr=LogisticRegression()\n"
   ]
  },
  {
   "cell_type": "code",
   "execution_count": 21,
   "id": "a624dc0c",
   "metadata": {},
   "outputs": [
    {
     "data": {
      "text/plain": [
       "0.7917956828988858"
      ]
     },
     "execution_count": 21,
     "metadata": {},
     "output_type": "execute_result"
    }
   ],
   "source": [
    "# hyper parameter tuning the model\n",
    "\n",
    "parameters={\n",
    "          \"random_state\":[0,1,42]\n",
    "           }\n",
    "\n",
    "gslr=GridSearchCV(estimator=lr,param_grid=parameters)\n",
    "\n",
    "gslr.fit(X_train_smote,y_train_smote)\n",
    "\n",
    "gslr.best_score_"
   ]
  },
  {
   "cell_type": "code",
   "execution_count": 22,
   "id": "1900e3ad",
   "metadata": {},
   "outputs": [
    {
     "data": {
      "text/plain": [
       "{'random_state': 0}"
      ]
     },
     "execution_count": 22,
     "metadata": {},
     "output_type": "execute_result"
    }
   ],
   "source": [
    "gslr.best_params_ # finding the best parameters for this model"
   ]
  },
  {
   "cell_type": "code",
   "execution_count": 23,
   "id": "679a92ac",
   "metadata": {},
   "outputs": [],
   "source": [
    "lr1=LogisticRegression(random_state=0)"
   ]
  },
  {
   "cell_type": "code",
   "execution_count": 24,
   "id": "23e21e1a",
   "metadata": {},
   "outputs": [
    {
     "data": {
      "text/plain": [
       "array([0, 1, 0, ..., 0, 0, 0], dtype=int64)"
      ]
     },
     "execution_count": 24,
     "metadata": {},
     "output_type": "execute_result"
    }
   ],
   "source": [
    "#Training the model\n",
    "\n",
    "lr1.fit(X_train_smote,y_train_smote)\n",
    "lr1_train_predict=lr1.predict(X_train_smote)\n",
    "lr1_train_predict\n"
   ]
  },
  {
   "cell_type": "code",
   "execution_count": 25,
   "id": "ac13c368",
   "metadata": {},
   "outputs": [
    {
     "data": {
      "text/plain": [
       "array([0, 0, 0, ..., 1, 0, 0], dtype=int64)"
      ]
     },
     "execution_count": 25,
     "metadata": {},
     "output_type": "execute_result"
    }
   ],
   "source": [
    "# Testing The model\n",
    "\n",
    "lr1_test_predict=lr1.predict(X_test)\n",
    "lr1_test_predict\n"
   ]
  },
  {
   "cell_type": "markdown",
   "id": "4883e408",
   "metadata": {},
   "source": [
    "## 7.2. Decision Tree Classifier"
   ]
  },
  {
   "cell_type": "code",
   "execution_count": 26,
   "id": "879bde46",
   "metadata": {},
   "outputs": [],
   "source": [
    "#initializing the model\n",
    "\n",
    "dt=DecisionTreeClassifier()"
   ]
  },
  {
   "cell_type": "code",
   "execution_count": 27,
   "id": "c6aeddbd",
   "metadata": {},
   "outputs": [
    {
     "data": {
      "text/plain": [
       "0.7970644117975079"
      ]
     },
     "execution_count": 27,
     "metadata": {},
     "output_type": "execute_result"
    }
   ],
   "source": [
    "# hyper parameter tuning the model\n",
    "\n",
    "parameters={\n",
    "           \"criterion\":[\"gini\", \"entropy\", \"log_loss\"],\n",
    "           \"random_state\":[0,1,42]\n",
    "           }\n",
    "\n",
    "gsdt=GridSearchCV(estimator=dt,param_grid=parameters)\n",
    "\n",
    "gsdt.fit(X_train_smote,y_train_smote)\n",
    "\n",
    "gsdt.best_score_"
   ]
  },
  {
   "cell_type": "code",
   "execution_count": 28,
   "id": "ae1ccca5",
   "metadata": {},
   "outputs": [
    {
     "data": {
      "text/plain": [
       "{'criterion': 'gini', 'random_state': 0}"
      ]
     },
     "execution_count": 28,
     "metadata": {},
     "output_type": "execute_result"
    }
   ],
   "source": [
    "gsdt.best_params_ # finding the best parameters for this model"
   ]
  },
  {
   "cell_type": "code",
   "execution_count": 32,
   "id": "58d9c070",
   "metadata": {},
   "outputs": [],
   "source": [
    "dt1=DecisionTreeClassifier(criterion='gini',random_state=0)"
   ]
  },
  {
   "cell_type": "code",
   "execution_count": 33,
   "id": "f2d903e0",
   "metadata": {},
   "outputs": [
    {
     "data": {
      "text/plain": [
       "array([0, 1, 0, ..., 0, 1, 0], dtype=int64)"
      ]
     },
     "execution_count": 33,
     "metadata": {},
     "output_type": "execute_result"
    }
   ],
   "source": [
    "#Training the model\n",
    "\n",
    "dt1.fit(X_train_smote,y_train_smote)\n",
    "dt1_train_predict=dt1.predict(X_train_smote)\n",
    "dt1_train_predict\n"
   ]
  },
  {
   "cell_type": "code",
   "execution_count": 34,
   "id": "52e5cfa5",
   "metadata": {},
   "outputs": [
    {
     "data": {
      "text/plain": [
       "array([1, 0, 0, ..., 1, 0, 0], dtype=int64)"
      ]
     },
     "execution_count": 34,
     "metadata": {},
     "output_type": "execute_result"
    }
   ],
   "source": [
    "# Testing The model\n",
    "\n",
    "dt1_test_predict=dt1.predict(X_test)\n",
    "dt1_test_predict\n"
   ]
  },
  {
   "cell_type": "markdown",
   "id": "3cbc2f03",
   "metadata": {},
   "source": [
    "## 7.3. Random Forest Classifier"
   ]
  },
  {
   "cell_type": "code",
   "execution_count": 35,
   "id": "d11f420c",
   "metadata": {},
   "outputs": [],
   "source": [
    "#initializing the model\n",
    "\n",
    "rf=RandomForestClassifier()"
   ]
  },
  {
   "cell_type": "code",
   "execution_count": 36,
   "id": "067c8ab7",
   "metadata": {},
   "outputs": [
    {
     "data": {
      "text/plain": [
       "0.7973491093064047"
      ]
     },
     "execution_count": 36,
     "metadata": {},
     "output_type": "execute_result"
    }
   ],
   "source": [
    "# hyper parameter tuning the model\n",
    "\n",
    "parameters={\n",
    "           \"criterion\":[\"gini\", \"entropy\", \"log_loss\"],\n",
    "           \"random_state\":[0,1,42]\n",
    "           }\n",
    "\n",
    "gsrf=GridSearchCV(estimator=rf,param_grid=parameters)\n",
    "\n",
    "gsrf.fit(X_train_smote,y_train_smote)\n",
    "\n",
    "gsrf.best_score_"
   ]
  },
  {
   "cell_type": "code",
   "execution_count": 37,
   "id": "bd46a883",
   "metadata": {},
   "outputs": [
    {
     "data": {
      "text/plain": [
       "{'criterion': 'gini', 'random_state': 1}"
      ]
     },
     "execution_count": 37,
     "metadata": {},
     "output_type": "execute_result"
    }
   ],
   "source": [
    "gsrf.best_params_ # finding the best parameters for this model"
   ]
  },
  {
   "cell_type": "code",
   "execution_count": 40,
   "id": "cc8b2ec9",
   "metadata": {},
   "outputs": [],
   "source": [
    "rf1=RandomForestClassifier(criterion='gini',random_state=1)"
   ]
  },
  {
   "cell_type": "code",
   "execution_count": 41,
   "id": "5d845709",
   "metadata": {},
   "outputs": [
    {
     "data": {
      "text/plain": [
       "array([0, 1, 0, ..., 0, 1, 0], dtype=int64)"
      ]
     },
     "execution_count": 41,
     "metadata": {},
     "output_type": "execute_result"
    }
   ],
   "source": [
    "#Training the model\n",
    "\n",
    "rf1.fit(X_train_smote,y_train_smote)\n",
    "rf1_train_predict=rf1.predict(X_train_smote)\n",
    "rf1_train_predict"
   ]
  },
  {
   "cell_type": "code",
   "execution_count": 42,
   "id": "68c2e87d",
   "metadata": {},
   "outputs": [
    {
     "data": {
      "text/plain": [
       "array([1, 0, 0, ..., 1, 0, 0], dtype=int64)"
      ]
     },
     "execution_count": 42,
     "metadata": {},
     "output_type": "execute_result"
    }
   ],
   "source": [
    "# Testing The model\n",
    "\n",
    "rf1_test_predict=rf1.predict(X_test)\n",
    "rf1_test_predict\n"
   ]
  },
  {
   "cell_type": "markdown",
   "id": "4f411fff",
   "metadata": {},
   "source": [
    "## 7.4 K Nearest Neighbors Classifier"
   ]
  },
  {
   "cell_type": "code",
   "execution_count": 43,
   "id": "fec194e3",
   "metadata": {},
   "outputs": [],
   "source": [
    "#initializing the model\n",
    "\n",
    "knn=KNeighborsClassifier()"
   ]
  },
  {
   "cell_type": "code",
   "execution_count": 81,
   "id": "e3ea70e0",
   "metadata": {},
   "outputs": [
    {
     "data": {
      "text/plain": [
       "0.7644642151047845"
      ]
     },
     "execution_count": 81,
     "metadata": {},
     "output_type": "execute_result"
    }
   ],
   "source": [
    "# hyper parameter tuning the model\n",
    "\n",
    "parameters={\n",
    "           \"n_neighbors\":[5,7,9]\n",
    "           }\n",
    "\n",
    "gsknn=GridSearchCV(estimator=knn,param_grid=parameters)\n",
    "\n",
    "gsknn.fit(X_train_smote,y_train_smote)\n",
    "\n",
    "gsknn.best_score_"
   ]
  },
  {
   "cell_type": "code",
   "execution_count": 82,
   "id": "fc926d84",
   "metadata": {},
   "outputs": [
    {
     "data": {
      "text/plain": [
       "{'n_neighbors': 9}"
      ]
     },
     "execution_count": 82,
     "metadata": {},
     "output_type": "execute_result"
    }
   ],
   "source": [
    "gsknn.best_params_ # finding the best parameters for this model"
   ]
  },
  {
   "cell_type": "code",
   "execution_count": 83,
   "id": "9000faff",
   "metadata": {},
   "outputs": [],
   "source": [
    "knn1=KNeighborsClassifier(n_neighbors=9)"
   ]
  },
  {
   "cell_type": "code",
   "execution_count": 84,
   "id": "1541ddf8",
   "metadata": {},
   "outputs": [
    {
     "data": {
      "text/plain": [
       "array([0, 1, 0, ..., 0, 1, 0], dtype=int64)"
      ]
     },
     "execution_count": 84,
     "metadata": {},
     "output_type": "execute_result"
    }
   ],
   "source": [
    "#Training the model\n",
    "\n",
    "knn1.fit(X_train_smote,y_train_smote)\n",
    "knn1_train_predict=knn1.predict(X_train_smote)\n",
    "knn1_train_predict"
   ]
  },
  {
   "cell_type": "code",
   "execution_count": 85,
   "id": "042e7342",
   "metadata": {},
   "outputs": [
    {
     "data": {
      "text/plain": [
       "array([1, 1, 0, ..., 1, 0, 0], dtype=int64)"
      ]
     },
     "execution_count": 85,
     "metadata": {},
     "output_type": "execute_result"
    }
   ],
   "source": [
    "# Testing The model\n",
    "\n",
    "knn1_test_predict=knn1.predict(X_test)\n",
    "knn1_test_predict"
   ]
  },
  {
   "cell_type": "markdown",
   "id": "d043e0f5",
   "metadata": {},
   "source": [
    "## 7.5. Naive Bayes Algorithm"
   ]
  },
  {
   "cell_type": "code",
   "execution_count": 49,
   "id": "ecca2a99",
   "metadata": {},
   "outputs": [],
   "source": [
    "#initializing the model\n",
    "\n",
    "nb1=GaussianNB()"
   ]
  },
  {
   "cell_type": "code",
   "execution_count": 50,
   "id": "375495c8",
   "metadata": {},
   "outputs": [
    {
     "data": {
      "text/plain": [
       "array([0, 1, 0, ..., 0, 0, 0], dtype=int64)"
      ]
     },
     "execution_count": 50,
     "metadata": {},
     "output_type": "execute_result"
    }
   ],
   "source": [
    "#Training the model\n",
    "\n",
    "nb1.fit(X_train_smote,y_train_smote)\n",
    "nb1_train_predict=nb1.predict(X_train_smote)\n",
    "nb1_train_predict"
   ]
  },
  {
   "cell_type": "code",
   "execution_count": 51,
   "id": "415e6cd1",
   "metadata": {},
   "outputs": [
    {
     "data": {
      "text/plain": [
       "array([0, 0, 0, ..., 1, 0, 0], dtype=int64)"
      ]
     },
     "execution_count": 51,
     "metadata": {},
     "output_type": "execute_result"
    }
   ],
   "source": [
    "# Testing The model\n",
    "\n",
    "nb1_test_predict=nb1.predict(X_test)\n",
    "nb1_test_predict"
   ]
  },
  {
   "cell_type": "markdown",
   "id": "80f643f1",
   "metadata": {},
   "source": [
    "## 7.6. Support Vector Machine"
   ]
  },
  {
   "cell_type": "code",
   "execution_count": 52,
   "id": "5dee16a6",
   "metadata": {},
   "outputs": [],
   "source": [
    "#initializing the model\n",
    "\n",
    "svc=SVC()"
   ]
  },
  {
   "cell_type": "code",
   "execution_count": 53,
   "id": "28b50efd",
   "metadata": {},
   "outputs": [
    {
     "data": {
      "text/plain": [
       "0.7916542466364531"
      ]
     },
     "execution_count": 53,
     "metadata": {},
     "output_type": "execute_result"
    }
   ],
   "source": [
    "# hyper parameter tuning the model\n",
    "\n",
    "parameters={\n",
    "           \"kernel\":['linear','rbf'],\n",
    "           \"random_state\":[0,1,42]\n",
    "           }\n",
    "\n",
    "gssvc=GridSearchCV(estimator=svc,param_grid=parameters)\n",
    "\n",
    "gssvc.fit(X_train_smote,y_train_smote)\n",
    "\n",
    "gssvc.best_score_"
   ]
  },
  {
   "cell_type": "code",
   "execution_count": 54,
   "id": "4b3f7927",
   "metadata": {},
   "outputs": [
    {
     "data": {
      "text/plain": [
       "{'kernel': 'linear', 'random_state': 0}"
      ]
     },
     "execution_count": 54,
     "metadata": {},
     "output_type": "execute_result"
    }
   ],
   "source": [
    "gssvc.best_params_ # finding the best parameters for this model"
   ]
  },
  {
   "cell_type": "code",
   "execution_count": 55,
   "id": "8835d4d5",
   "metadata": {},
   "outputs": [],
   "source": [
    "svc1=SVC(kernel='linear', random_state= 0)"
   ]
  },
  {
   "cell_type": "code",
   "execution_count": 56,
   "id": "b107c5bb",
   "metadata": {},
   "outputs": [
    {
     "data": {
      "text/plain": [
       "array([0, 1, 0, ..., 0, 0, 0], dtype=int64)"
      ]
     },
     "execution_count": 56,
     "metadata": {},
     "output_type": "execute_result"
    }
   ],
   "source": [
    "#Training the model\n",
    "\n",
    "svc1.fit(X_train_smote,y_train_smote)\n",
    "svc1_train_predict=svc1.predict(X_train_smote)\n",
    "svc1_train_predict"
   ]
  },
  {
   "cell_type": "code",
   "execution_count": 57,
   "id": "9ded166a",
   "metadata": {},
   "outputs": [
    {
     "data": {
      "text/plain": [
       "array([0, 0, 0, ..., 1, 0, 0], dtype=int64)"
      ]
     },
     "execution_count": 57,
     "metadata": {},
     "output_type": "execute_result"
    }
   ],
   "source": [
    "# Testing The model\n",
    "\n",
    "svc1_test_predict=svc1.predict(X_test)\n",
    "svc1_test_predict"
   ]
  },
  {
   "cell_type": "markdown",
   "id": "6e6f55d1",
   "metadata": {},
   "source": [
    "## 8. Evaluating the performance of the models"
   ]
  },
  {
   "cell_type": "code",
   "execution_count": 58,
   "id": "27747ef2",
   "metadata": {},
   "outputs": [],
   "source": [
    "# The models are evaluated using\n",
    "# 1. accuracy score\n",
    "# 2. confusion matrix\n",
    "# 3. classification report#"
   ]
  },
  {
   "cell_type": "markdown",
   "id": "74814792",
   "metadata": {},
   "source": [
    "## 8.1. Accuracy score"
   ]
  },
  {
   "cell_type": "code",
   "execution_count": 60,
   "id": "e055dda2",
   "metadata": {},
   "outputs": [
    {
     "name": "stdout",
     "output_type": "stream",
     "text": [
      "1. logistic regression Algorithm\n",
      "\n",
      "On Training data:  0.791085160922814\n",
      "On Testing Data:  0.796\n"
     ]
    }
   ],
   "source": [
    "# logistic regression Algorithm\n",
    "\n",
    "print(\"1. logistic regression Algorithm\\n\")\n",
    "# On Training data\n",
    "print(\"On Training data: \",accuracy_score(y_train_smote,lr1_train_predict))\n",
    "\n",
    "# On Testing Data\n",
    "print(\"On Testing Data: \",accuracy_score(y_test,lr1_test_predict))"
   ]
  },
  {
   "cell_type": "code",
   "execution_count": 61,
   "id": "f003d3e4",
   "metadata": {},
   "outputs": [
    {
     "name": "stdout",
     "output_type": "stream",
     "text": [
      "2. Decision Tree Classifier\n",
      "\n",
      "On Training data:  0.7990600968385075\n",
      "On Testing Data:  0.804\n"
     ]
    }
   ],
   "source": [
    "# Decision Tree Classifier\n",
    "\n",
    "print(\"2. Decision Tree Classifier\\n\")\n",
    "# On Training data\n",
    "print(\"On Training data: \",accuracy_score(y_train_smote,dt1_train_predict))\n",
    "\n",
    "# On Testing Data\n",
    "print(\"On Testing Data: \",accuracy_score(y_test,dt1_test_predict))"
   ]
  },
  {
   "cell_type": "code",
   "execution_count": 62,
   "id": "75647dc8",
   "metadata": {},
   "outputs": [
    {
     "name": "stdout",
     "output_type": "stream",
     "text": [
      "3. Random Forest Classifier\n",
      "\n",
      "On Training data:  0.7990600968385075\n",
      "On Testing Data:  0.8046666666666666\n"
     ]
    }
   ],
   "source": [
    "# Random Forest Classifier\n",
    "\n",
    "print(\"3. Random Forest Classifier\\n\")\n",
    "# On Training data\n",
    "print(\"On Training data: \",accuracy_score(y_train_smote,rf1_train_predict))\n",
    "\n",
    "# On Testing Data\n",
    "print(\"On Testing Data: \",accuracy_score(y_test,rf1_test_predict))"
   ]
  },
  {
   "cell_type": "code",
   "execution_count": 86,
   "id": "ce74e251",
   "metadata": {},
   "outputs": [
    {
     "name": "stdout",
     "output_type": "stream",
     "text": [
      "4. K Nearest Neighbors\n",
      "\n",
      "On Training data:  0.7937909427513529\n",
      "On Testing Data:  0.7913333333333333\n"
     ]
    }
   ],
   "source": [
    "# K Nearest Neighbors\n",
    "\n",
    "print(\"4. K Nearest Neighbors\\n\")\n",
    "# On Training data\n",
    "print(\"On Training data: \",accuracy_score(y_train_smote,knn1_train_predict))\n",
    "\n",
    "# On Testing Data\n",
    "print(\"On Testing Data: \",accuracy_score(y_test,knn1_test_predict))"
   ]
  },
  {
   "cell_type": "code",
   "execution_count": 64,
   "id": "1449c516",
   "metadata": {},
   "outputs": [
    {
     "name": "stdout",
     "output_type": "stream",
     "text": [
      "5. Naive Bayes\n",
      "\n",
      "On Training data:  0.7919396183423526\n",
      "On Testing Data:  0.7926666666666666\n"
     ]
    }
   ],
   "source": [
    "# Naive Bayes\n",
    "\n",
    "print(\"5. Naive Bayes\\n\")\n",
    "# On Training data\n",
    "print(\"On Training data: \",accuracy_score(y_train_smote,nb1_train_predict))\n",
    "\n",
    "# On Testing Data\n",
    "print(\"On Testing Data: \",accuracy_score(y_test,nb1_test_predict))"
   ]
  },
  {
   "cell_type": "code",
   "execution_count": 65,
   "id": "b9b24e17",
   "metadata": {},
   "outputs": [
    {
     "name": "stdout",
     "output_type": "stream",
     "text": [
      "6. Support Vector Machine\n",
      "\n",
      "On Training data:  0.7919396183423526\n",
      "On Testing Data:  0.7926666666666666\n"
     ]
    }
   ],
   "source": [
    "# Support Vector Machine\n",
    "\n",
    "print(\"6. Support Vector Machine\\n\")\n",
    "# On Training data\n",
    "print(\"On Training data: \",accuracy_score(y_train_smote,svc1_train_predict))\n",
    "\n",
    "# On Testing Data\n",
    "print(\"On Testing Data: \",accuracy_score(y_test,svc1_test_predict))"
   ]
  },
  {
   "cell_type": "code",
   "execution_count": 66,
   "id": "92d867bc",
   "metadata": {},
   "outputs": [],
   "source": [
    "# conclusion from Accuracy score\n",
    "\n",
    "# As there is no major difference between training and testing data\n",
    "# So there is no overfitting or underfitting"
   ]
  },
  {
   "cell_type": "markdown",
   "id": "2b9b048c",
   "metadata": {},
   "source": [
    "## 8.2. confusion matrix"
   ]
  },
  {
   "cell_type": "code",
   "execution_count": 67,
   "id": "f48c28a6",
   "metadata": {},
   "outputs": [
    {
     "name": "stdout",
     "output_type": "stream",
     "text": [
      "1. logistic regression Algorithm\n"
     ]
    },
    {
     "data": {
      "text/plain": [
       "array([[1454,   57],\n",
       "       [ 555,  934]], dtype=int64)"
      ]
     },
     "execution_count": 67,
     "metadata": {},
     "output_type": "execute_result"
    }
   ],
   "source": [
    "# logistic regression Algorithm\n",
    "\n",
    "print(\"1. logistic regression Algorithm\")\n",
    "confusion_matrix(y_test,lr1_test_predict)"
   ]
  },
  {
   "cell_type": "code",
   "execution_count": 68,
   "id": "6f51faf7",
   "metadata": {},
   "outputs": [
    {
     "name": "stdout",
     "output_type": "stream",
     "text": [
      "2. Decision Tree Classifier\n"
     ]
    },
    {
     "data": {
      "text/plain": [
       "array([[1347,  164],\n",
       "       [ 424, 1065]], dtype=int64)"
      ]
     },
     "execution_count": 68,
     "metadata": {},
     "output_type": "execute_result"
    }
   ],
   "source": [
    "# Decision Tree Classifier\n",
    "\n",
    "print(\"2. Decision Tree Classifier\")\n",
    "confusion_matrix(y_test,dt1_test_predict)"
   ]
  },
  {
   "cell_type": "code",
   "execution_count": 69,
   "id": "a83b183e",
   "metadata": {},
   "outputs": [
    {
     "name": "stdout",
     "output_type": "stream",
     "text": [
      "3. Random Forest Classifier\n"
     ]
    },
    {
     "data": {
      "text/plain": [
       "array([[1347,  164],\n",
       "       [ 422, 1067]], dtype=int64)"
      ]
     },
     "execution_count": 69,
     "metadata": {},
     "output_type": "execute_result"
    }
   ],
   "source": [
    "# Random Forest Classifier\n",
    "\n",
    "print(\"3. Random Forest Classifier\")\n",
    "confusion_matrix(y_test,rf1_test_predict)"
   ]
  },
  {
   "cell_type": "code",
   "execution_count": 87,
   "id": "a533bdc2",
   "metadata": {},
   "outputs": [
    {
     "name": "stdout",
     "output_type": "stream",
     "text": [
      "4. K Nearest Neighbors\n"
     ]
    },
    {
     "data": {
      "text/plain": [
       "array([[1244,  267],\n",
       "       [ 359, 1130]], dtype=int64)"
      ]
     },
     "execution_count": 87,
     "metadata": {},
     "output_type": "execute_result"
    }
   ],
   "source": [
    "# K Nearest Neighbors\n",
    "\n",
    "print(\"4. K Nearest Neighbors\")\n",
    "confusion_matrix(y_test,knn1_test_predict)"
   ]
  },
  {
   "cell_type": "code",
   "execution_count": 71,
   "id": "456a04e1",
   "metadata": {},
   "outputs": [
    {
     "name": "stdout",
     "output_type": "stream",
     "text": [
      "5. Naive Bayes\n"
     ]
    },
    {
     "data": {
      "text/plain": [
       "array([[1499,   12],\n",
       "       [ 610,  879]], dtype=int64)"
      ]
     },
     "execution_count": 71,
     "metadata": {},
     "output_type": "execute_result"
    }
   ],
   "source": [
    "# Naive Bayes\n",
    "\n",
    "print(\"5. Naive Bayes\")\n",
    "confusion_matrix(y_test,nb1_test_predict)"
   ]
  },
  {
   "cell_type": "code",
   "execution_count": 89,
   "id": "d8b0374e",
   "metadata": {},
   "outputs": [
    {
     "name": "stdout",
     "output_type": "stream",
     "text": [
      "6. Support Vector Machine\n"
     ]
    },
    {
     "data": {
      "text/plain": [
       "array([[1499,   12],\n",
       "       [ 610,  879]], dtype=int64)"
      ]
     },
     "execution_count": 89,
     "metadata": {},
     "output_type": "execute_result"
    }
   ],
   "source": [
    "# Support Vector Machine\n",
    "\n",
    "print(\"6. Support Vector Machine\")\n",
    "confusion_matrix(y_test,svc1_test_predict)"
   ]
  },
  {
   "cell_type": "code",
   "execution_count": 90,
   "id": "6875e59e",
   "metadata": {},
   "outputs": [],
   "source": [
    "# conclusion from confusion matrix\n",
    "\n",
    "# K Nearest neighbors algorithm is performing well for this dataset"
   ]
  },
  {
   "cell_type": "markdown",
   "id": "125975ed",
   "metadata": {},
   "source": [
    "## 8.3. Classification Report"
   ]
  },
  {
   "cell_type": "code",
   "execution_count": 91,
   "id": "16f7def0",
   "metadata": {},
   "outputs": [
    {
     "name": "stdout",
     "output_type": "stream",
     "text": [
      "1. logistic regression Algorithm\n",
      "              precision    recall  f1-score   support\n",
      "\n",
      "           0       0.72      0.96      0.83      1511\n",
      "           1       0.94      0.63      0.75      1489\n",
      "\n",
      "    accuracy                           0.80      3000\n",
      "   macro avg       0.83      0.79      0.79      3000\n",
      "weighted avg       0.83      0.80      0.79      3000\n",
      "\n"
     ]
    }
   ],
   "source": [
    "# logistic regression Algorithm\n",
    "\n",
    "print(\"1. logistic regression Algorithm\")\n",
    "print(classification_report(y_test,lr1_test_predict))"
   ]
  },
  {
   "cell_type": "code",
   "execution_count": 92,
   "id": "9200d4c0",
   "metadata": {},
   "outputs": [
    {
     "name": "stdout",
     "output_type": "stream",
     "text": [
      "2. Decision Tree Classifier\n",
      "              precision    recall  f1-score   support\n",
      "\n",
      "           0       0.76      0.89      0.82      1511\n",
      "           1       0.87      0.72      0.78      1489\n",
      "\n",
      "    accuracy                           0.80      3000\n",
      "   macro avg       0.81      0.80      0.80      3000\n",
      "weighted avg       0.81      0.80      0.80      3000\n",
      "\n"
     ]
    }
   ],
   "source": [
    "# Decision Tree Classifier\n",
    "\n",
    "print(\"2. Decision Tree Classifier\")\n",
    "print(classification_report(y_test,dt1_test_predict))"
   ]
  },
  {
   "cell_type": "code",
   "execution_count": 93,
   "id": "abf0d8f6",
   "metadata": {},
   "outputs": [
    {
     "name": "stdout",
     "output_type": "stream",
     "text": [
      "3.  Random Forest Classifier\n",
      "              precision    recall  f1-score   support\n",
      "\n",
      "           0       0.76      0.89      0.82      1511\n",
      "           1       0.87      0.72      0.78      1489\n",
      "\n",
      "    accuracy                           0.80      3000\n",
      "   macro avg       0.81      0.80      0.80      3000\n",
      "weighted avg       0.81      0.80      0.80      3000\n",
      "\n"
     ]
    }
   ],
   "source": [
    "# Random Forest Classifier\n",
    "\n",
    "print(\"3.  Random Forest Classifier\")\n",
    "print(classification_report(y_test,rf1_test_predict))"
   ]
  },
  {
   "cell_type": "code",
   "execution_count": 94,
   "id": "c220233a",
   "metadata": {},
   "outputs": [
    {
     "name": "stdout",
     "output_type": "stream",
     "text": [
      "4. K Nearest Neighbors\n",
      "              precision    recall  f1-score   support\n",
      "\n",
      "           0       0.78      0.82      0.80      1511\n",
      "           1       0.81      0.76      0.78      1489\n",
      "\n",
      "    accuracy                           0.79      3000\n",
      "   macro avg       0.79      0.79      0.79      3000\n",
      "weighted avg       0.79      0.79      0.79      3000\n",
      "\n"
     ]
    }
   ],
   "source": [
    "# K Nearest Neighbors\n",
    "\n",
    "print(\"4. K Nearest Neighbors\")\n",
    "print(classification_report(y_test,knn1_test_predict))"
   ]
  },
  {
   "cell_type": "code",
   "execution_count": 95,
   "id": "91075ea2",
   "metadata": {},
   "outputs": [
    {
     "name": "stdout",
     "output_type": "stream",
     "text": [
      "5. Naive Bayes\n",
      "              precision    recall  f1-score   support\n",
      "\n",
      "           0       0.71      0.99      0.83      1511\n",
      "           1       0.99      0.59      0.74      1489\n",
      "\n",
      "    accuracy                           0.79      3000\n",
      "   macro avg       0.85      0.79      0.78      3000\n",
      "weighted avg       0.85      0.79      0.78      3000\n",
      "\n"
     ]
    }
   ],
   "source": [
    "# Naive Bayes\n",
    "\n",
    "print(\"5. Naive Bayes\")\n",
    "print(classification_report(y_test,nb1_test_predict))"
   ]
  },
  {
   "cell_type": "code",
   "execution_count": 96,
   "id": "b0c192f8",
   "metadata": {},
   "outputs": [
    {
     "name": "stdout",
     "output_type": "stream",
     "text": [
      "6. Support Vector Machine\n",
      "              precision    recall  f1-score   support\n",
      "\n",
      "           0       0.71      0.99      0.83      1511\n",
      "           1       0.99      0.59      0.74      1489\n",
      "\n",
      "    accuracy                           0.79      3000\n",
      "   macro avg       0.85      0.79      0.78      3000\n",
      "weighted avg       0.85      0.79      0.78      3000\n",
      "\n"
     ]
    }
   ],
   "source": [
    "# Support Vector Machine\n",
    "\n",
    "print(\"6. Support Vector Machine\")\n",
    "print(classification_report(y_test,svc1_test_predict))"
   ]
  },
  {
   "cell_type": "code",
   "execution_count": 97,
   "id": "b3541ad6",
   "metadata": {},
   "outputs": [],
   "source": [
    "# conclusion from Classification Report\n",
    "\n",
    "# K Nearest neighbors algorithm is performing well for this dataset"
   ]
  },
  {
   "cell_type": "code",
   "execution_count": 98,
   "id": "dd0b77f9",
   "metadata": {},
   "outputs": [],
   "source": [
    "# conclusion from Evaluating the performance of above mentioned six models\n",
    "\n",
    "# K Nearest neighbors algorithm is performing well for this dataset based on accuracy score,confusion matrix,classification report"
   ]
  },
  {
   "cell_type": "markdown",
   "id": "44d67869",
   "metadata": {},
   "source": [
    "# 9. Selecting and saving the model"
   ]
  },
  {
   "cell_type": "code",
   "execution_count": 102,
   "id": "84e48059",
   "metadata": {},
   "outputs": [
    {
     "data": {
      "text/plain": [
       "['Selected_Model.pkl']"
      ]
     },
     "execution_count": 102,
     "metadata": {},
     "output_type": "execute_result"
    }
   ],
   "source": [
    "# From the performance of each model \"K Nearest neighbors algorithm\" gives the best performance\n",
    "# so this algorithm is used to predict the result for our project\n",
    "\n",
    "# Saving the model\n",
    "\n",
    "from joblib import Parallel, delayed\n",
    "import joblib\n",
    "\n",
    "# save the model as a pickle in a file\n",
    "joblib.dump(knn1, 'Selected_Model.pkl')"
   ]
  }
 ],
 "metadata": {
  "kernelspec": {
   "display_name": "Python 3 (ipykernel)",
   "language": "python",
   "name": "python3"
  },
  "language_info": {
   "codemirror_mode": {
    "name": "ipython",
    "version": 3
   },
   "file_extension": ".py",
   "mimetype": "text/x-python",
   "name": "python",
   "nbconvert_exporter": "python",
   "pygments_lexer": "ipython3",
   "version": "3.9.5"
  }
 },
 "nbformat": 4,
 "nbformat_minor": 5
}
